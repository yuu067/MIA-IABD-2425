{
  "cells": [
    {
      "cell_type": "markdown",
      "metadata": {
        "id": "view-in-github",
        "colab_type": "text"
      },
      "source": [
        "<a href=\"https://colab.research.google.com/github/yuu067/MIA-IABD-2425/blob/main/UD03/notebooks/EX1.-exercicis_representacio_text_ES.ipynb\" target=\"_parent\"><img src=\"https://colab.research.google.com/assets/colab-badge.svg\" alt=\"Open In Colab\"/></a>"
      ]
    },
    {
      "cell_type": "markdown",
      "id": "b6caca43a0b4a35d",
      "metadata": {
        "collapsed": false,
        "id": "b6caca43a0b4a35d"
      },
      "source": [
        "# Ejercicios UD03_01\n",
        "\n",
        "## Ejercicio 1\n",
        "\n",
        "Tokeniza el siguiente texto en palabras y en oraciones. Luego elimine las palabras de parada (stopwords) y las comas en el texto. Finalmente, crea un vector con la representación *Bolsa de palabras* (BoW).\n",
        "\n",
        "*Texto*: \"El Barça es el mejor equipo del mundo. A veces, sin embargo, juega mal\"."
      ]
    },
    {
      "cell_type": "code",
      "execution_count": 3,
      "id": "eb61c2fcf97abb12",
      "metadata": {
        "id": "eb61c2fcf97abb12",
        "outputId": "eb59a897-7fa9-4a97-ae7e-d097343dd840",
        "colab": {
          "base_uri": "https://localhost:8080/"
        }
      },
      "outputs": [
        {
          "output_type": "stream",
          "name": "stdout",
          "text": [
            "Requirement already satisfied: textblob==0.19.0 in /usr/local/lib/python3.11/dist-packages (0.19.0)\n",
            "Requirement already satisfied: nltk>=3.9 in /usr/local/lib/python3.11/dist-packages (from textblob==0.19.0) (3.9.1)\n",
            "Requirement already satisfied: click in /usr/local/lib/python3.11/dist-packages (from nltk>=3.9->textblob==0.19.0) (8.1.8)\n",
            "Requirement already satisfied: joblib in /usr/local/lib/python3.11/dist-packages (from nltk>=3.9->textblob==0.19.0) (1.4.2)\n",
            "Requirement already satisfied: regex>=2021.8.3 in /usr/local/lib/python3.11/dist-packages (from nltk>=3.9->textblob==0.19.0) (2024.11.6)\n",
            "Requirement already satisfied: tqdm in /usr/local/lib/python3.11/dist-packages (from nltk>=3.9->textblob==0.19.0) (4.67.1)\n",
            "Requirement already satisfied: gensim in /usr/local/lib/python3.11/dist-packages (4.3.3)\n",
            "Requirement already satisfied: numpy<2.0,>=1.18.5 in /usr/local/lib/python3.11/dist-packages (from gensim) (1.26.4)\n",
            "Requirement already satisfied: scipy<1.14.0,>=1.7.0 in /usr/local/lib/python3.11/dist-packages (from gensim) (1.13.1)\n",
            "Requirement already satisfied: smart-open>=1.8.1 in /usr/local/lib/python3.11/dist-packages (from gensim) (7.1.0)\n",
            "Requirement already satisfied: wrapt in /usr/local/lib/python3.11/dist-packages (from smart-open>=1.8.1->gensim) (1.17.2)\n",
            "[nltk_data] Downloading package brown to /root/nltk_data...\n",
            "[nltk_data]   Unzipping corpora/brown.zip.\n",
            "[nltk_data] Downloading package punkt_tab to /root/nltk_data...\n",
            "[nltk_data]   Unzipping tokenizers/punkt_tab.zip.\n",
            "[nltk_data] Downloading package wordnet to /root/nltk_data...\n",
            "[nltk_data] Downloading package averaged_perceptron_tagger_eng to\n",
            "[nltk_data]     /root/nltk_data...\n",
            "[nltk_data]   Unzipping taggers/averaged_perceptron_tagger_eng.zip.\n",
            "[nltk_data] Downloading package conll2000 to /root/nltk_data...\n",
            "[nltk_data]   Unzipping corpora/conll2000.zip.\n",
            "[nltk_data] Downloading package movie_reviews to /root/nltk_data...\n",
            "[nltk_data]   Unzipping corpora/movie_reviews.zip.\n",
            "Finished.\n"
          ]
        }
      ],
      "source": [
        "%pip install textblob==0.19.0\n",
        "%pip install gensim\n",
        "!python -m textblob.download_corpora"
      ]
    },
    {
      "cell_type": "code",
      "source": [
        "# Importamos la librería\n",
        "from textblob import TextBlob\n",
        "\n",
        "# Creamos un objeto TextBLOB con el texto que queremos tokenizar\n",
        "text = \"El Barça es el mejor equipo del mundo. A veces.\"\n",
        "blob = TextBlob(text)\n",
        "\n",
        "# Tokenizamos el texto\n",
        "tokens = blob.words\n",
        "\n",
        "# Mostramos los tokens\n",
        "tokens"
      ],
      "metadata": {
        "id": "ISMoR6hFZcRT",
        "outputId": "44a47954-e505-4175-b9be-0236d4e735e3",
        "colab": {
          "base_uri": "https://localhost:8080/"
        }
      },
      "id": "ISMoR6hFZcRT",
      "execution_count": 4,
      "outputs": [
        {
          "output_type": "execute_result",
          "data": {
            "text/plain": [
              "WordList(['El', 'Barça', 'es', 'el', 'mejor', 'equipo', 'del', 'mundo', 'A', 'veces'])"
            ]
          },
          "metadata": {},
          "execution_count": 4
        }
      ]
    },
    {
      "cell_type": "code",
      "source": [],
      "metadata": {
        "id": "CFhG9RLTZdC8"
      },
      "id": "CFhG9RLTZdC8",
      "execution_count": null,
      "outputs": []
    },
    {
      "cell_type": "code",
      "source": [],
      "metadata": {
        "id": "4dCTz3jNZdPC"
      },
      "id": "4dCTz3jNZdPC",
      "execution_count": null,
      "outputs": []
    },
    {
      "cell_type": "markdown",
      "id": "dd119885912268ec",
      "metadata": {
        "collapsed": false,
        "id": "dd119885912268ec"
      },
      "source": [
        "## Ejercicio 2\n",
        "\n",
        "Cree un vector con la representación *tf-idf* del texto del ejercicio anterior."
      ]
    },
    {
      "cell_type": "code",
      "execution_count": null,
      "id": "5b1af3fea4872dad",
      "metadata": {
        "id": "5b1af3fea4872dad"
      },
      "outputs": [],
      "source": []
    },
    {
      "cell_type": "markdown",
      "id": "c5f1f0688fa4e4fb",
      "metadata": {
        "collapsed": false,
        "id": "c5f1f0688fa4e4fb"
      },
      "source": [
        "## Ejercicio 3\n",
        "\n",
        "Cree un vector con la representación *Word2Vec* del texto del ejercicio anterior."
      ]
    },
    {
      "cell_type": "code",
      "execution_count": null,
      "id": "1b1095f43d5ff126",
      "metadata": {
        "id": "1b1095f43d5ff126"
      },
      "outputs": [],
      "source": []
    },
    {
      "cell_type": "markdown",
      "id": "fb0208b28868114c",
      "metadata": {
        "collapsed": false,
        "id": "fb0208b28868114c"
      },
      "source": [
        "## Ejercicio 4\n",
        "\n",
        "Clasifique el siguiente texto usando el clasificador *Naive Bayes* como el que hemos utilizado en la práctica [Introducción a PLN](https://colab.research.google.com/github/martinezpenya/MIA-IABD-2425/blob/main/UD03/notebooks/1.-introduccio_nlp_ES.ipynb).\n",
        "\n",
        "*Texto*: \"Creo que la aplicación no funciona\"."
      ]
    },
    {
      "cell_type": "code",
      "execution_count": null,
      "id": "357960e3fd0cbbd2",
      "metadata": {
        "id": "357960e3fd0cbbd2"
      },
      "outputs": [],
      "source": []
    }
  ],
  "metadata": {
    "kernelspec": {
      "display_name": "Python 3",
      "language": "python",
      "name": "python3"
    },
    "language_info": {
      "codemirror_mode": {
        "name": "ipython",
        "version": 2
      },
      "file_extension": ".py",
      "mimetype": "text/x-python",
      "name": "python",
      "nbconvert_exporter": "python",
      "pygments_lexer": "ipython2",
      "version": "2.7.6"
    },
    "colab": {
      "provenance": [],
      "include_colab_link": true
    }
  },
  "nbformat": 4,
  "nbformat_minor": 5
}