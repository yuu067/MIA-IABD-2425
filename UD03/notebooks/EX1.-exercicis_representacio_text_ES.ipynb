{
  "cells": [
    {
      "cell_type": "markdown",
      "metadata": {
        "id": "view-in-github",
        "colab_type": "text"
      },
      "source": [
        "<a href=\"https://colab.research.google.com/github/yuu067/MIA-IABD-2425/blob/main/UD03/notebooks/EX1.-exercicis_representacio_text_ES.ipynb\" target=\"_parent\"><img src=\"https://colab.research.google.com/assets/colab-badge.svg\" alt=\"Open In Colab\"/></a>"
      ]
    },
    {
      "cell_type": "markdown",
      "id": "b6caca43a0b4a35d",
      "metadata": {
        "collapsed": false,
        "id": "b6caca43a0b4a35d"
      },
      "source": [
        "# Ejercicios UD03_01\n",
        "\n",
        "## Ejercicio 1\n",
        "\n",
        "Tokeniza el siguiente texto en palabras y en oraciones. Luego elimine las palabras de parada (stopwords) y las comas en el texto. Finalmente, crea un vector con la representación *Bolsa de palabras* (BoW).\n",
        "\n",
        "*Texto*: \"El Barça es el mejor equipo del mundo. A veces, sin embargo, juega mal\"."
      ]
    },
    {
      "cell_type": "code",
      "execution_count": 2,
      "id": "eb61c2fcf97abb12",
      "metadata": {
        "id": "eb61c2fcf97abb12",
        "outputId": "5ec48ea7-5ccf-4944-f0c4-c7edffa77e73",
        "colab": {
          "base_uri": "https://localhost:8080/"
        }
      },
      "outputs": [
        {
          "output_type": "stream",
          "name": "stdout",
          "text": [
            "Requirement already satisfied: textblob==0.19.0 in /usr/local/lib/python3.11/dist-packages (0.19.0)\n",
            "Requirement already satisfied: nltk>=3.9 in /usr/local/lib/python3.11/dist-packages (from textblob==0.19.0) (3.9.1)\n",
            "Requirement already satisfied: click in /usr/local/lib/python3.11/dist-packages (from nltk>=3.9->textblob==0.19.0) (8.1.8)\n",
            "Requirement already satisfied: joblib in /usr/local/lib/python3.11/dist-packages (from nltk>=3.9->textblob==0.19.0) (1.4.2)\n",
            "Requirement already satisfied: regex>=2021.8.3 in /usr/local/lib/python3.11/dist-packages (from nltk>=3.9->textblob==0.19.0) (2024.11.6)\n",
            "Requirement already satisfied: tqdm in /usr/local/lib/python3.11/dist-packages (from nltk>=3.9->textblob==0.19.0) (4.67.1)\n",
            "Requirement already satisfied: gensim in /usr/local/lib/python3.11/dist-packages (4.3.3)\n",
            "Requirement already satisfied: numpy<2.0,>=1.18.5 in /usr/local/lib/python3.11/dist-packages (from gensim) (1.26.4)\n",
            "Requirement already satisfied: scipy<1.14.0,>=1.7.0 in /usr/local/lib/python3.11/dist-packages (from gensim) (1.13.1)\n",
            "Requirement already satisfied: smart-open>=1.8.1 in /usr/local/lib/python3.11/dist-packages (from gensim) (7.1.0)\n",
            "Requirement already satisfied: wrapt in /usr/local/lib/python3.11/dist-packages (from smart-open>=1.8.1->gensim) (1.17.2)\n",
            "[nltk_data] Downloading package brown to /root/nltk_data...\n",
            "[nltk_data]   Unzipping corpora/brown.zip.\n",
            "[nltk_data] Downloading package punkt_tab to /root/nltk_data...\n",
            "[nltk_data]   Unzipping tokenizers/punkt_tab.zip.\n",
            "[nltk_data] Downloading package wordnet to /root/nltk_data...\n",
            "[nltk_data] Downloading package averaged_perceptron_tagger_eng to\n",
            "[nltk_data]     /root/nltk_data...\n",
            "[nltk_data]   Unzipping taggers/averaged_perceptron_tagger_eng.zip.\n",
            "[nltk_data] Downloading package conll2000 to /root/nltk_data...\n",
            "[nltk_data]   Unzipping corpora/conll2000.zip.\n",
            "[nltk_data] Downloading package movie_reviews to /root/nltk_data...\n",
            "[nltk_data]   Unzipping corpora/movie_reviews.zip.\n",
            "Finished.\n"
          ]
        }
      ],
      "source": [
        "%pip install textblob==0.19.0\n",
        "%pip install gensim\n",
        "!python -m textblob.download_corpora"
      ]
    },
    {
      "cell_type": "code",
      "source": [
        "# Importamos la librería\n",
        "from textblob import TextBlob\n",
        "import nltk\n",
        "from nltk.corpus import stopwords\n",
        "\n",
        "# Creamos un objeto TextBLOB con el texto que queremos tokenizar\n",
        "text = \"El Barça es el mejor equipo del mundo. A veces, sin embargo, juega mal\"\n",
        "blob = TextBlob(text)\n",
        "\n",
        "# Tokenizamos el texto\n",
        "tokens = blob.words\n",
        "\n",
        "sentences = blob.sentences\n",
        "\n",
        "# Mostramos los tokens\n",
        "print(tokens)\n",
        "print(sentences)\n",
        "nltk.download('stopwords')\n",
        "stop_words = set(stopwords.words('spanish'))\n",
        "\n",
        "tokens_filtered = [x for x in tokens if x.lower() not in stop_words and x.lower !=',']\n",
        "\n",
        "print(tokens_filtered)"
      ],
      "metadata": {
        "id": "ISMoR6hFZcRT",
        "outputId": "e13ca494-f523-465a-fa62-276fece2d69a",
        "colab": {
          "base_uri": "https://localhost:8080/"
        }
      },
      "id": "ISMoR6hFZcRT",
      "execution_count": 11,
      "outputs": [
        {
          "output_type": "stream",
          "name": "stdout",
          "text": [
            "['El', 'Barça', 'es', 'el', 'mejor', 'equipo', 'del', 'mundo', 'A', 'veces', 'sin', 'embargo', 'juega', 'mal']\n",
            "[Sentence(\"El Barça es el mejor equipo del mundo.\"), Sentence(\"A veces, sin embargo, juega mal\")]\n",
            "['Barça', 'mejor', 'equipo', 'mundo', 'veces', 'embargo', 'juega', 'mal']\n"
          ]
        },
        {
          "output_type": "stream",
          "name": "stderr",
          "text": [
            "[nltk_data] Downloading package stopwords to /root/nltk_data...\n",
            "[nltk_data]   Package stopwords is already up-to-date!\n"
          ]
        }
      ]
    },
    {
      "cell_type": "code",
      "source": [
        "import numpy\n",
        "from sklearn.feature_extraction.text import CountVectorizer\n",
        "\n",
        "# Creamos la representación de rendimiento única de un texto\n",
        "\n",
        "vectorizer = CountVectorizer()\n",
        "text = ' '.join(tokens_filtered)\n",
        "bow = vectorizer.fit_transform([text])\n",
        "\n",
        "print(vectorizer.get_feature_names_out())\n",
        "print(bow.toarray())"
      ],
      "metadata": {
        "id": "CFhG9RLTZdC8",
        "colab": {
          "base_uri": "https://localhost:8080/"
        },
        "outputId": "0941e56b-3db3-443b-c9e8-f6fd5efa6429"
      },
      "id": "CFhG9RLTZdC8",
      "execution_count": 17,
      "outputs": [
        {
          "output_type": "stream",
          "name": "stdout",
          "text": [
            "['barça' 'embargo' 'equipo' 'juega' 'mal' 'mejor' 'mundo' 'veces']\n",
            "[[1 1 1 1 1 1 1 1]]\n"
          ]
        }
      ]
    },
    {
      "cell_type": "markdown",
      "id": "dd119885912268ec",
      "metadata": {
        "collapsed": false,
        "id": "dd119885912268ec"
      },
      "source": [
        "## Ejercicio 2\n",
        "\n",
        "Cree un vector con la representación *tf-idf* del texto del ejercicio anterior."
      ]
    },
    {
      "cell_type": "code",
      "execution_count": 19,
      "id": "5b1af3fea4872dad",
      "metadata": {
        "id": "5b1af3fea4872dad",
        "colab": {
          "base_uri": "https://localhost:8080/"
        },
        "outputId": "68996cde-cf10-4883-a3cd-bb907461249d"
      },
      "outputs": [
        {
          "output_type": "stream",
          "name": "stdout",
          "text": [
            "['barça' 'embargo' 'equipo' 'juega' 'mal' 'mejor' 'mundo' 'veces']\n",
            "[[0.35355339 0.35355339 0.35355339 0.35355339 0.35355339 0.35355339\n",
            "  0.35355339 0.35355339]]\n"
          ]
        }
      ],
      "source": [
        "from sklearn.feature_extraction.text import TfidfVectorizer\n",
        "\n",
        "text = ' '.join(tokens_filtered)\n",
        "\n",
        "vectorizer = TfidfVectorizer()\n",
        "tfidf = vectorizer.fit_transform([text])\n",
        "\n",
        "print(vectorizer.get_feature_names_out())\n",
        "print(tfidf.toarray())"
      ]
    },
    {
      "cell_type": "markdown",
      "id": "c5f1f0688fa4e4fb",
      "metadata": {
        "collapsed": false,
        "id": "c5f1f0688fa4e4fb"
      },
      "source": [
        "## Ejercicio 3\n",
        "\n",
        "Cree un vector con la representación *Word2Vec* del texto del ejercicio anterior."
      ]
    },
    {
      "cell_type": "code",
      "execution_count": 21,
      "id": "1b1095f43d5ff126",
      "metadata": {
        "id": "1b1095f43d5ff126",
        "colab": {
          "base_uri": "https://localhost:8080/"
        },
        "outputId": "90e98b24-ba8e-4099-b99a-ddaba2edd4c1"
      },
      "outputs": [
        {
          "output_type": "execute_result",
          "data": {
            "text/plain": [
              "array([ 9.4563962e-05,  3.0773198e-03, -6.8126451e-03, -1.3754654e-03,\n",
              "        7.6685809e-03,  7.3464094e-03, -3.6732971e-03,  2.6427018e-03,\n",
              "       -8.3171297e-03,  6.2054861e-03, -4.6373224e-03, -3.1641065e-03,\n",
              "        9.3113566e-03,  8.7338570e-04,  7.4907029e-03, -6.0740625e-03,\n",
              "        5.1605068e-03,  9.9228229e-03, -8.4573915e-03, -5.1356913e-03,\n",
              "       -7.0648370e-03, -4.8626517e-03, -3.7785638e-03, -8.5361991e-03,\n",
              "        7.9556061e-03, -4.8439382e-03,  8.4236134e-03,  5.2625705e-03,\n",
              "       -6.5500261e-03,  3.9578713e-03,  5.4701497e-03, -7.4265362e-03,\n",
              "       -7.4057197e-03, -2.4752307e-03, -8.6257253e-03, -1.5815723e-03,\n",
              "       -4.0343284e-04,  3.2996845e-03,  1.4418805e-03, -8.8142155e-04,\n",
              "       -5.5940580e-03,  1.7303658e-03, -8.9737179e-04,  6.7936908e-03,\n",
              "        3.9735902e-03,  4.5294715e-03,  1.4343059e-03, -2.6998555e-03,\n",
              "       -4.3668128e-03, -1.0320747e-03,  1.4370275e-03, -2.6460087e-03,\n",
              "       -7.0737829e-03, -7.8053069e-03, -9.1217868e-03, -5.9351693e-03,\n",
              "       -1.8474245e-03, -4.3238713e-03, -6.4606704e-03, -3.7173224e-03,\n",
              "        4.2891586e-03, -3.7390434e-03,  8.3781751e-03,  1.5339935e-03,\n",
              "       -7.2423196e-03,  9.4337985e-03,  7.6312125e-03,  5.4932819e-03,\n",
              "       -6.8488456e-03,  5.8226790e-03,  4.0090932e-03,  5.1853694e-03,\n",
              "        4.2559016e-03,  1.9397545e-03, -3.1701624e-03,  8.3538452e-03,\n",
              "        9.6121803e-03,  3.7926030e-03, -2.8369951e-03,  7.1275235e-06,\n",
              "        1.2188185e-03, -8.4583247e-03, -8.2239453e-03, -2.3101569e-04,\n",
              "        1.2372875e-03, -5.7433806e-03, -4.7252737e-03, -7.3460746e-03,\n",
              "        8.3286157e-03,  1.2129784e-04, -4.5093987e-03,  5.7017053e-03,\n",
              "        9.1800150e-03, -4.0998720e-03,  7.9646818e-03,  5.3754342e-03,\n",
              "        5.8791232e-03,  5.1259040e-04,  8.2130842e-03, -7.0190406e-03],\n",
              "      dtype=float32)"
            ]
          },
          "metadata": {},
          "execution_count": 21
        }
      ],
      "source": [
        "from gensim.models import Word2Vec\n",
        "\n",
        "model = Word2Vec([tokens_filtered], min_count=1)\n",
        "model.wv['embargo']"
      ]
    },
    {
      "cell_type": "markdown",
      "id": "fb0208b28868114c",
      "metadata": {
        "collapsed": false,
        "id": "fb0208b28868114c"
      },
      "source": [
        "## Ejercicio 4\n",
        "\n",
        "Clasifique el siguiente texto usando el clasificador *Naive Bayes* como el que hemos utilizado en la práctica [Introducción a PLN](https://colab.research.google.com/github/martinezpenya/MIA-IABD-2425/blob/main/UD03/notebooks/1.-introduccio_nlp_ES.ipynb).\n",
        "\n",
        "*Texto*: \"Creo que la aplicación no funciona\"."
      ]
    },
    {
      "cell_type": "code",
      "execution_count": 31,
      "id": "357960e3fd0cbbd2",
      "metadata": {
        "id": "357960e3fd0cbbd2",
        "colab": {
          "base_uri": "https://localhost:8080/",
          "height": 35
        },
        "outputId": "23549005-b44d-471e-c747-1ab54cd8f762"
      },
      "outputs": [
        {
          "output_type": "execute_result",
          "data": {
            "text/plain": [
              "'Bug'"
            ],
            "application/vnd.google.colaboratory.intrinsic+json": {
              "type": "string"
            }
          },
          "metadata": {},
          "execution_count": 31
        }
      ],
      "source": [
        "#Primero crearemos los datos de capacitación y prueba\n",
        "\n",
        "# Training data\n",
        "train = [\n",
        "    ('The application crashes when I try to open it.', 'Bug'),\n",
        "    ('I would like to request a new feature.', 'Feature Request'),\n",
        "    ('How do I reset my password?', 'Question'),\n",
        "    ('There is a typo on the main page.', 'Bug'),\n",
        "    ('Could you add support for multiple languages?', 'Feature Request'),\n",
        "    ('Where can I find the user manual?', 'Question'),\n",
        "]\n",
        "\n",
        "# Testing data\n",
        "test = [\n",
        "    ('The app is not responding.', 'Bug'),\n",
        "    ('I think it would be great if you could add a dark mode.', 'Feature Request'),\n",
        "    ('What is the maximum file size I can upload?', 'Question'),\n",
        "]\n",
        "\n",
        "# Entrenamos el clasificador\n",
        "\n",
        "from textblob.classifiers import NaiveBayesClassifier\n",
        "\n",
        "classifier = NaiveBayesClassifier(train)\n",
        "\n",
        "# Clasificamos texto\n",
        "\n",
        "texto = \"The app is not working\"\n",
        "classifier.classify(texto)"
      ]
    }
  ],
  "metadata": {
    "kernelspec": {
      "display_name": "Python 3",
      "language": "python",
      "name": "python3"
    },
    "language_info": {
      "codemirror_mode": {
        "name": "ipython",
        "version": 2
      },
      "file_extension": ".py",
      "mimetype": "text/x-python",
      "name": "python",
      "nbconvert_exporter": "python",
      "pygments_lexer": "ipython2",
      "version": "2.7.6"
    },
    "colab": {
      "provenance": [],
      "include_colab_link": true
    }
  },
  "nbformat": 4,
  "nbformat_minor": 5
}